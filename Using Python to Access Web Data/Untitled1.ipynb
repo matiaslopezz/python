{
 "cells": [
  {
   "cell_type": "code",
   "execution_count": 32,
   "metadata": {},
   "outputs": [
    {
     "name": "stdin",
     "output_type": "stream",
     "text": [
      "Enter location:  http://py4e-data.dr-chuck.net/comments_1183024.json\n"
     ]
    },
    {
     "name": "stdout",
     "output_type": "stream",
     "text": [
      "Retrieving http://py4e-data.dr-chuck.net/comments_1183024.json\n",
      "Retrieved 2715 characters\n",
      "Count:  50\n",
      "Sum:  2221\n"
     ]
    }
   ],
   "source": [
    "import urllib.request, urllib.parse, urllib.error\n",
    "import xml.etree.ElementTree as ET\n",
    "import ssl\n",
    "import json\n",
    "\n",
    "\n",
    "# Ignore SSL certificate errors\n",
    "ctx = ssl.create_default_context()\n",
    "ctx.check_hostname = False\n",
    "ctx.verify_mode = ssl.CERT_NONE\n",
    "\n",
    "\n",
    "url = input('Enter location: ')   \n",
    "print('Retrieving', url)\n",
    "uh = urllib.request.urlopen(url, context=ctx)\n",
    "\n",
    "data = uh.read()\n",
    "print('Retrieved', len(data), 'characters')\n",
    "#print(data.decode())\n",
    "\n",
    "info = json.loads(data)\n",
    "\n",
    "total = 0\n",
    "cc = 0\n",
    "\n",
    "for item in info['comments']:\n",
    "    cc += 1    \n",
    "    count = item['count']\n",
    "    number = int(count)\n",
    "    total += number\n",
    "\n",
    "print(\"Count: \", cc)\n",
    "print(\"Sum: \", total)"
   ]
  },
  {
   "cell_type": "code",
   "execution_count": null,
   "metadata": {},
   "outputs": [],
   "source": []
  }
 ],
 "metadata": {
  "kernelspec": {
   "display_name": "Python 3",
   "language": "python",
   "name": "python3"
  },
  "language_info": {
   "codemirror_mode": {
    "name": "ipython",
    "version": 3
   },
   "file_extension": ".py",
   "mimetype": "text/x-python",
   "name": "python",
   "nbconvert_exporter": "python",
   "pygments_lexer": "ipython3",
   "version": "3.7.3"
  }
 },
 "nbformat": 4,
 "nbformat_minor": 4
}
